{
 "cells": [
  {
   "cell_type": "code",
   "execution_count": 1,
   "metadata": {},
   "outputs": [],
   "source": [
    "%matplotlib inline"
   ]
  },
  {
   "cell_type": "code",
   "execution_count": 2,
   "metadata": {},
   "outputs": [],
   "source": [
    "from __future__ import absolute_import, division, print_function\n",
    "\n",
    "from collections import OrderedDict\n",
    "from itertools import product\n",
    "from os.path import *\n",
    "from os import *\n",
    "import pickle\n",
    "import sys\n",
    "\n",
    "import matplotlib as mpl\n",
    "import matplotlib.pyplot as plt"
   ]
  },
  {
   "cell_type": "code",
   "execution_count": 3,
   "metadata": {},
   "outputs": [],
   "source": [
    "from icecube.dataclasses import *\n",
    "from icecube import *\n",
    "from icecube.icetray import *\n",
    "from icecube.clsim import MakeIceCubeMediumProperties"
   ]
  },
  {
   "cell_type": "code",
   "execution_count": 4,
   "metadata": {},
   "outputs": [
    {
     "name": "stdout",
     "output_type": "stream",
     "text": [
      "/home/justin/src/retro/notebooks\r\n"
     ]
    }
   ],
   "source": [
    "!pwd"
   ]
  },
  {
   "cell_type": "code",
   "execution_count": 5,
   "metadata": {},
   "outputs": [],
   "source": [
    "sys.path.append(expandvars('$I3_SRC/clsim/python/util'))\n",
    "sys.path.append(abspath('..'))\n",
    "\n",
    "from GetIceTiltZShift import GetIceTiltZShift, I3CLSimScalarFieldIceTiltZShift\n",
    "from retro.const import get_sd_idx\n",
    "from retro.utils.geom import powerspace"
   ]
  },
  {
   "cell_type": "code",
   "execution_count": 6,
   "metadata": {},
   "outputs": [],
   "source": [
    "# Spice lea tables, for use with MC used for GRECO and DRAGON samples; used up until 2019-04-xx\n",
    "# gcd_path = '../data/GeoCalibDetectorStatus_IC86.55697_corrected_V2.pkl'\n",
    "# ice_model = 'spice_lea'\n",
    "\n",
    "# Spice 3.2.1 tables, for use with oscNext sim\n",
    "gcd_path = '../data/GeoCalibDetectorStatus_AVG_55697-57531_PASS2_SPE_withScaledNoise.pkl'\n",
    "ice_model = 'spice_3.2.1'"
   ]
  },
  {
   "cell_type": "code",
   "execution_count": 7,
   "metadata": {},
   "outputs": [
    {
     "name": "stdout",
     "output_type": "stream",
     "text": [
      "GeoCalibDetectorStatus_AVG_55697-57531_PASS2_SPE_withScaledNoise\n"
     ]
    }
   ],
   "source": [
    "gcd = pickle.load(file(gcd_path, 'rb'))\n",
    "geo = gcd['geo']\n",
    "gcd_basename = splitext(basename(gcd_path))[0]\n",
    "print(gcd_basename)"
   ]
  },
  {
   "cell_type": "code",
   "execution_count": 31,
   "metadata": {},
   "outputs": [
    {
     "data": {
      "text/plain": [
       "['source_gcd_name',\n",
       " 'source_gcd_md5',\n",
       " 'source_gcd_i3_md5',\n",
       " 'geo',\n",
       " 'noise',\n",
       " 'rde']"
      ]
     },
     "execution_count": 31,
     "metadata": {},
     "output_type": "execute_result"
    }
   ],
   "source": [
    "gcd.keys()"
   ]
  },
  {
   "cell_type": "code",
   "execution_count": 23,
   "metadata": {},
   "outputs": [
    {
     "name": "stdout",
     "output_type": "stream",
     "text": [
      "5081 valid, 79 invalid DOMs (86, 60)\n"
     ]
    }
   ],
   "source": [
    "valid_mask = np.logical_not(\n",
    "    np.logical_not(np.isfinite(gcd['rde'])) | (gcd['rde'] == 0)\n",
    "    &\n",
    "    np.logical_not(np.isfinite(gcd['noise'])) | (gcd['noise'] == 0)\n",
    ")\n",
    "n_nz = np.count_nonzero(valid_mask)\n",
    "n_z = np.count_nonzero(valid_mask == 0)\n",
    "print(\"{} valid, {} invalid DOMs\".format(n_nz, n_z), valid_mask.shape)"
   ]
  },
  {
   "cell_type": "markdown",
   "metadata": {},
   "source": [
    "See `ice_layer_properties_validation.ipynb` for validation that I'm computing layer indices using the CLSim tool correctly."
   ]
  },
  {
   "cell_type": "code",
   "execution_count": 8,
   "metadata": {},
   "outputs": [
    {
     "name": "stdout",
     "output_type": "stream",
     "text": [
      "# ppc configuration file: follow strict order below\r\n",
      "5     # over-R: DOM radius \"oversize\" scaling factor\r\n",
      "0.94   # overall DOM efficiency correction\r\n",
      "0.35  # 0=HG; 1=SAM\r\n",
      "0.9   # g=<cos(theta)>\r\n",
      "\r\n",
      "130    # direction of major anisotropy axis\r\n",
      "-0.069 # magnitude of major anisotropy coefficient k1\r\n",
      "0.0345 # magnitude of minor anisotropy coefficient k2\r\n"
     ]
    }
   ],
   "source": [
    "I3_SRC = os.environ[\"I3_SRC\"]\n",
    "!cat $I3_SRC/ice-models/resources/models/$ice_model/cfg.txt"
   ]
  },
  {
   "cell_type": "code",
   "execution_count": 9,
   "metadata": {},
   "outputs": [
    {
     "data": {
      "text/plain": [
       "{'anisotropyDirAzimuth': 2.2689280275926285,\n",
       " 'anisotropyMagnitudeAlongDir': -0.069,\n",
       " 'anisotropyMagnitudePerpToDir': 0.0345}"
      ]
     },
     "execution_count": 9,
     "metadata": {},
     "output_type": "execute_result"
    }
   ],
   "source": [
    "ice_props, ice_params = MakeIceCubeMediumProperties(\n",
    "    detectorCenterDepth=1948.07*I3Units.m,\n",
    "    iceDataDirectory=join(I3_SRC, 'ice-models/resources/models/' + ice_model),\n",
    "    useTiltIfAvailable=True,\n",
    "    returnParameters=True,\n",
    ")\n",
    "ice_params"
   ]
  },
  {
   "cell_type": "code",
   "execution_count": 10,
   "metadata": {},
   "outputs": [
    {
     "name": "stdout",
     "output_type": "stream",
     "text": [
      "cfg.txt shape: (7,)\n",
      "mean_cos_scattering_theta: 0.9\n",
      "icemodel.par shape: (4, 2)\n",
      "alpha=0.898608505726, kappa=1.08410680294, A=6954.09033203, B=6617.75439453\n",
      "icemodel.dat shape: (171, 4)\n"
     ]
    }
   ],
   "source": [
    "rootdir = '{}/ice-models/resources/models/{}'.format(I3_SRC, ice_model)\n",
    "\n",
    "cfg = np.loadtxt(join(rootdir, 'cfg.txt'))\n",
    "print('cfg.txt shape:', cfg.shape)\n",
    "\n",
    "oversize_scaling = cfg[0]\n",
    "efficiency_correction = cfg[1]\n",
    "liu_scattering_fraction = cfg[2]\n",
    "mean_cos_scattering_theta = cfg[3]\n",
    "\n",
    "print('mean_cos_scattering_theta:', mean_cos_scattering_theta)\n",
    "\n",
    "icemodel_par = np.loadtxt(join(rootdir, 'icemodel.par'))\n",
    "print('icemodel.par shape:', icemodel_par.shape)\n",
    "if False: #ice_model == 'spice_mie':\n",
    "    assert icemodel_par.shape[0] == 6\n",
    "    alpha, kappa, A, B, D, E = icemodel_par[:, 0].T\n",
    "    print('alpha={}, kappa={}, A={}, B={}, D={}, E={}'.format(alpha, kappa, A, B, D, E))\n",
    "else: # ice_model == 'spice_lea':\n",
    "    #assert icemodel_par.shape[0] == 4\n",
    "    alpha, kappa, A, B = icemodel_par[:, 0].T[:4]\n",
    "    print('alpha={}, kappa={}, A={}, B={}'.format(alpha, kappa, A, B))\n",
    "#else:\n",
    "#    raise ValueError(ice_model)\n",
    "    \n",
    "icemodel = np.loadtxt(join(rootdir, 'icemodel.dat'))\n",
    "print('icemodel.dat shape:', icemodel.shape)\n",
    "\n",
    "# first column: z layer *depth* midpoints\n",
    "zlayermidpts = icemodel[:, 0]\n",
    "# second column: b_e(400) values\n",
    "be400 = icemodel[:, 1]\n",
    "# third column: adust(400) values\n",
    "adust400 = icemodel[:, 2]\n",
    "# fourth column: delta_tau values\n",
    "delta_tau = icemodel[:, 3]"
   ]
  },
  {
   "cell_type": "code",
   "execution_count": 40,
   "metadata": {},
   "outputs": [
    {
     "name": "stdout",
     "output_type": "stream",
     "text": [
      "CPU times: user 19.6 s, sys: 488 ms, total: 20.1 s\n",
      "Wall time: 19.6 s\n"
     ]
    }
   ],
   "source": [
    "%%time\n",
    "\n",
    "wavelen = 555e-9 * I3Units.m\n",
    "n_strings = 86\n",
    "n_doms_per_string = 60\n",
    "n_doms = 86 * 60\n",
    "z0 = ice_props.GetLayersZStart()\n",
    "dz = ice_props.GetLayersHeight()\n",
    "zshift = ice_props.GetIceTiltZShift()\n",
    "\n",
    "coords = OrderedDict(\n",
    "    [\n",
    "        (\"r\", powerspace(0.1, 200, 5, 5)),\n",
    "        (\"costheta\", np.linspace(np.cos(np.pi), np.cos(0), 9)),\n",
    "        (\"phi\", np.arange(0, 2*np.pi, np.pi/4)),\n",
    "    ]\n",
    ")\n",
    "properties = OrderedDict(\n",
    "    [\n",
    "        (\"ice_model\", ice_model),\n",
    "        (\"gcd\", gcd),\n",
    "        (\"wavelen\", wavelen),\n",
    "        (\"coords\", coords),\n",
    "        (\"dom_info\", OrderedDict()),\n",
    "    ]\n",
    ")\n",
    "for s_idx, d_idx in product(range(n_strings), range(n_doms_per_string)):\n",
    "    #if not valid_mask[s_idx, d_idx]:\n",
    "    #    continue\n",
    "    string = s_idx + 1\n",
    "    dom = d_idx + 1\n",
    "    sd_idx = get_sd_idx(string=string, dom=dom)\n",
    "    x, y, z = geo[s_idx, d_idx]\n",
    "    al = []\n",
    "    sl = []\n",
    "    for r, costheta, phi in product(coords[\"r\"], coords[\"costheta\"], coords[\"phi\"]):\n",
    "        sintheta = np.sin(np.arccos(costheta))\n",
    "        z_ = z + r * costheta\n",
    "        x_ = x + r * sintheta * np.cos(phi)\n",
    "        y_ = y + r * sintheta * np.sin(phi)\n",
    "\n",
    "        # Original sign convention: z + zshift - z0; this has now been\n",
    "        # verified by comparing against a \"manual\" calculation of the\n",
    "        # ice scattering length.\n",
    "        layer_num = int((z_ - z0 + zshift.GetValue(x_, y_, z_)) / dz)\n",
    "        # Alternative sign convention\n",
    "        #layer_num = int((z_ - z0 - zshift.GetValue(x_, y_, z_)) / dz)\n",
    "\n",
    "        al.append(ice_props.GetAbsorptionLength(layer_num).GetValue(wavelen))\n",
    "        sl.append(ice_props.GetScatteringLength(layer_num).GetValue(wavelen))\n",
    "\n",
    "    zequiv = z + zshift.GetValue(x, y, z)\n",
    "    layer_num = int((zequiv - z0) / dz)\n",
    "    properties[\"dom_info\"][(string, dom)] = OrderedDict(\n",
    "        [\n",
    "            (\"x\", x),\n",
    "            (\"y\", y),\n",
    "            (\"z\", z),\n",
    "            (\"zequiv\", zequiv),\n",
    "            (\"layer_num\", layer_num),\n",
    "            # functions from icecube_geometry.ipynb for getting \"hex\" coordinates along 3 hex-aligned axes;\n",
    "            # not currently being used for any subsequent computations, so commenting \"h{0,1,2}\" out\n",
    "            #get_hc0_coord(x, y),\n",
    "            #get_hc1_coord(x, y),\n",
    "            #get_hc2_coord(x, y),\n",
    "            (\"absorption_length_at_dom\", ice_props.GetAbsorptionLength(layer_num).GetValue(wavelen)),\n",
    "            (\"scattering_length_at_dom\", ice_props.GetScatteringLength(layer_num).GetValue(wavelen)),\n",
    "            (\"absorption_length_nearby\", np.array(al)),\n",
    "            (\"scattering_length_nearby\", np.array(sl)),\n",
    "        ]\n",
    "    )"
   ]
  },
  {
   "cell_type": "code",
   "execution_count": 41,
   "metadata": {},
   "outputs": [
    {
     "name": "stdout",
     "output_type": "stream",
     "text": [
      "../data/dom_clustering_properties_binned__spice_3.2.1__GeoCalibDetectorStatus_AVG_55697-57531_PASS2_SPE_withScaledNoise.pkl\n"
     ]
    }
   ],
   "source": [
    "outfpath = \"../data/dom_clustering_properties_binned__{}__{}.pkl\".format(ice_model, gcd_basename)\n",
    "pickle.dump(properties, file(outfpath, \"w\"), protocol=pickle.HIGHEST_PROTOCOL)\n",
    "print(outfpath)"
   ]
  }
 ],
 "metadata": {
  "kernelspec": {
   "display_name": "Python 2",
   "language": "python",
   "name": "python2"
  },
  "language_info": {
   "codemirror_mode": {
    "name": "ipython",
    "version": 2
   },
   "file_extension": ".py",
   "mimetype": "text/x-python",
   "name": "python",
   "nbconvert_exporter": "python",
   "pygments_lexer": "ipython2",
   "version": "2.7.15"
  }
 },
 "nbformat": 4,
 "nbformat_minor": 2
}
